{
  "nbformat": 4,
  "nbformat_minor": 0,
  "metadata": {
    "colab": {
      "name": "tsai-eva6-assignment3.ipynb",
      "provenance": [],
      "collapsed_sections": []
    },
    "kernelspec": {
      "name": "python3",
      "display_name": "Python 3"
    },
    "language_info": {
      "name": "python"
    },
    "accelerator": "GPU",
    "widgets": {
      "application/vnd.jupyter.widget-state+json": {
        "d48edea419da431ba2a878f22c2e3ea0": {
          "model_module": "@jupyter-widgets/controls",
          "model_name": "HBoxModel",
          "state": {
            "_view_name": "HBoxView",
            "_dom_classes": [],
            "_model_name": "HBoxModel",
            "_view_module": "@jupyter-widgets/controls",
            "_model_module_version": "1.5.0",
            "_view_count": null,
            "_view_module_version": "1.5.0",
            "box_style": "",
            "layout": "IPY_MODEL_ed3c8bdaf73d49a084bccf6dd910a57c",
            "_model_module": "@jupyter-widgets/controls",
            "children": [
              "IPY_MODEL_c534ee738260496581653d885cc418e2",
              "IPY_MODEL_b7f7896130b04f58bfdd051d33ab5ae6"
            ]
          }
        },
        "ed3c8bdaf73d49a084bccf6dd910a57c": {
          "model_module": "@jupyter-widgets/base",
          "model_name": "LayoutModel",
          "state": {
            "_view_name": "LayoutView",
            "grid_template_rows": null,
            "right": null,
            "justify_content": null,
            "_view_module": "@jupyter-widgets/base",
            "overflow": null,
            "_model_module_version": "1.2.0",
            "_view_count": null,
            "flex_flow": null,
            "width": null,
            "min_width": null,
            "border": null,
            "align_items": null,
            "bottom": null,
            "_model_module": "@jupyter-widgets/base",
            "top": null,
            "grid_column": null,
            "overflow_y": null,
            "overflow_x": null,
            "grid_auto_flow": null,
            "grid_area": null,
            "grid_template_columns": null,
            "flex": null,
            "_model_name": "LayoutModel",
            "justify_items": null,
            "grid_row": null,
            "max_height": null,
            "align_content": null,
            "visibility": null,
            "align_self": null,
            "height": null,
            "min_height": null,
            "padding": null,
            "grid_auto_rows": null,
            "grid_gap": null,
            "max_width": null,
            "order": null,
            "_view_module_version": "1.2.0",
            "grid_template_areas": null,
            "object_position": null,
            "object_fit": null,
            "grid_auto_columns": null,
            "margin": null,
            "display": null,
            "left": null
          }
        },
        "c534ee738260496581653d885cc418e2": {
          "model_module": "@jupyter-widgets/controls",
          "model_name": "FloatProgressModel",
          "state": {
            "_view_name": "ProgressView",
            "style": "IPY_MODEL_44741f71a6b64a6bac9fa9f44186c6a0",
            "_dom_classes": [],
            "description": "100%",
            "_model_name": "FloatProgressModel",
            "bar_style": "success",
            "max": 40,
            "_view_module": "@jupyter-widgets/controls",
            "_model_module_version": "1.5.0",
            "value": 40,
            "_view_count": null,
            "_view_module_version": "1.5.0",
            "orientation": "horizontal",
            "min": 0,
            "description_tooltip": null,
            "_model_module": "@jupyter-widgets/controls",
            "layout": "IPY_MODEL_46dd152d74d043b6b9599e253443707f"
          }
        },
        "b7f7896130b04f58bfdd051d33ab5ae6": {
          "model_module": "@jupyter-widgets/controls",
          "model_name": "HTMLModel",
          "state": {
            "_view_name": "HTMLView",
            "style": "IPY_MODEL_6487946c3db44d0598ef45857f950c3e",
            "_dom_classes": [],
            "description": "",
            "_model_name": "HTMLModel",
            "placeholder": "​",
            "_view_module": "@jupyter-widgets/controls",
            "_model_module_version": "1.5.0",
            "value": " 40/40 [00:02&lt;00:00, 13.53it/s]",
            "_view_count": null,
            "_view_module_version": "1.5.0",
            "description_tooltip": null,
            "_model_module": "@jupyter-widgets/controls",
            "layout": "IPY_MODEL_59e6e45d1ed9494796cdec22dc82ee38"
          }
        },
        "44741f71a6b64a6bac9fa9f44186c6a0": {
          "model_module": "@jupyter-widgets/controls",
          "model_name": "ProgressStyleModel",
          "state": {
            "_view_name": "StyleView",
            "_model_name": "ProgressStyleModel",
            "description_width": "initial",
            "_view_module": "@jupyter-widgets/base",
            "_model_module_version": "1.5.0",
            "_view_count": null,
            "_view_module_version": "1.2.0",
            "bar_color": null,
            "_model_module": "@jupyter-widgets/controls"
          }
        },
        "46dd152d74d043b6b9599e253443707f": {
          "model_module": "@jupyter-widgets/base",
          "model_name": "LayoutModel",
          "state": {
            "_view_name": "LayoutView",
            "grid_template_rows": null,
            "right": null,
            "justify_content": null,
            "_view_module": "@jupyter-widgets/base",
            "overflow": null,
            "_model_module_version": "1.2.0",
            "_view_count": null,
            "flex_flow": null,
            "width": null,
            "min_width": null,
            "border": null,
            "align_items": null,
            "bottom": null,
            "_model_module": "@jupyter-widgets/base",
            "top": null,
            "grid_column": null,
            "overflow_y": null,
            "overflow_x": null,
            "grid_auto_flow": null,
            "grid_area": null,
            "grid_template_columns": null,
            "flex": null,
            "_model_name": "LayoutModel",
            "justify_items": null,
            "grid_row": null,
            "max_height": null,
            "align_content": null,
            "visibility": null,
            "align_self": null,
            "height": null,
            "min_height": null,
            "padding": null,
            "grid_auto_rows": null,
            "grid_gap": null,
            "max_width": null,
            "order": null,
            "_view_module_version": "1.2.0",
            "grid_template_areas": null,
            "object_position": null,
            "object_fit": null,
            "grid_auto_columns": null,
            "margin": null,
            "display": null,
            "left": null
          }
        },
        "6487946c3db44d0598ef45857f950c3e": {
          "model_module": "@jupyter-widgets/controls",
          "model_name": "DescriptionStyleModel",
          "state": {
            "_view_name": "StyleView",
            "_model_name": "DescriptionStyleModel",
            "description_width": "",
            "_view_module": "@jupyter-widgets/base",
            "_model_module_version": "1.5.0",
            "_view_count": null,
            "_view_module_version": "1.2.0",
            "_model_module": "@jupyter-widgets/controls"
          }
        },
        "59e6e45d1ed9494796cdec22dc82ee38": {
          "model_module": "@jupyter-widgets/base",
          "model_name": "LayoutModel",
          "state": {
            "_view_name": "LayoutView",
            "grid_template_rows": null,
            "right": null,
            "justify_content": null,
            "_view_module": "@jupyter-widgets/base",
            "overflow": null,
            "_model_module_version": "1.2.0",
            "_view_count": null,
            "flex_flow": null,
            "width": null,
            "min_width": null,
            "border": null,
            "align_items": null,
            "bottom": null,
            "_model_module": "@jupyter-widgets/base",
            "top": null,
            "grid_column": null,
            "overflow_y": null,
            "overflow_x": null,
            "grid_auto_flow": null,
            "grid_area": null,
            "grid_template_columns": null,
            "flex": null,
            "_model_name": "LayoutModel",
            "justify_items": null,
            "grid_row": null,
            "max_height": null,
            "align_content": null,
            "visibility": null,
            "align_self": null,
            "height": null,
            "min_height": null,
            "padding": null,
            "grid_auto_rows": null,
            "grid_gap": null,
            "max_width": null,
            "order": null,
            "_view_module_version": "1.2.0",
            "grid_template_areas": null,
            "object_position": null,
            "object_fit": null,
            "grid_auto_columns": null,
            "margin": null,
            "display": null,
            "left": null
          }
        }
      }
    }
  },
  "cells": [
    {
      "cell_type": "code",
      "metadata": {
        "id": "q1G55-YCs3eZ"
      },
      "source": [
        "import random \n",
        "import numpy as np\n",
        "from tqdm.notebook import tqdm\n",
        "\n",
        "import torch\n",
        "import torchvision\n",
        "import torch.nn as nn\n",
        "import torch.optim as optim\n",
        "from torchvision import datasets, transforms\n",
        "from torch.utils.data import Dataset, DataLoader\n",
        "\n",
        "from sklearn.metrics import classification_report, confusion_matrix, accuracy_score"
      ],
      "execution_count": 91,
      "outputs": []
    },
    {
      "cell_type": "code",
      "metadata": {
        "colab": {
          "base_uri": "https://localhost:8080/"
        },
        "id": "IQ0uAxxM3fc-",
        "outputId": "2a05975a-cd27-4444-bbfa-1fd3a40a80fb"
      },
      "source": [
        "device = torch.device(\"cuda\" if torch.cuda.is_available() else \"cpu\")\n",
        "device"
      ],
      "execution_count": 80,
      "outputs": [
        {
          "output_type": "execute_result",
          "data": {
            "text/plain": [
              "device(type='cuda')"
            ]
          },
          "metadata": {
            "tags": []
          },
          "execution_count": 80
        }
      ]
    },
    {
      "cell_type": "code",
      "metadata": {
        "id": "sxTfOsreuYUC"
      },
      "source": [
        "# normalize images\n",
        "transform=transforms.Compose([\n",
        "        transforms.ToTensor(),\n",
        "        transforms.Normalize((0.1307,), (0.3081,))\n",
        "])\n",
        "\n",
        "# mnist dataset\n",
        "img_train_dataset = datasets.MNIST('../data', train=True, download=True, transform=transform)\n",
        "img_test_dataset = datasets.MNIST('../data', train=False, transform=transform)\n",
        "\n",
        "# mnist dataloader\n",
        "img_train_loader = DataLoader(img_train_dataset, shuffle=True, batch_size=256)\n",
        "img_test_loader = DataLoader(img_test_dataset, shuffle=False, batch_size=256)"
      ],
      "execution_count": 81,
      "outputs": []
    },
    {
      "cell_type": "code",
      "metadata": {
        "id": "G0NZz-nmyNVj"
      },
      "source": [
        "# random number dataset\n",
        "class NumDataset(Dataset):\n",
        "    def __init__(self, num_digits):\n",
        "        # init random int tensor\n",
        "        self.num = torch.tensor([random.randint(0, 9) for x in range(num_digits)], dtype=torch.long).unsqueeze(1)\n",
        "\n",
        "    def __getitem__(self, idx):\n",
        "        return self.num[idx]\n",
        "    \n",
        "    def __len__(self):\n",
        "        return len(self.num)\n",
        "\n",
        "\n",
        "num_train_dataset = NumDataset(num_digits=len(img_train_dataset))\n",
        "num_test_dataset = NumDataset(num_digits=len(img_test_dataset))\n",
        "\n",
        "num_train_loader = DataLoader(num_train_dataset, shuffle=False, batch_size=64)\n",
        "num_test_loader = DataLoader(num_train_dataset, shuffle=False, batch_size=64)"
      ],
      "execution_count": 82,
      "outputs": []
    },
    {
      "cell_type": "code",
      "metadata": {
        "id": "qEdFfprpvYOB"
      },
      "source": [
        "class ModelClassifier(nn.Module):\n",
        "    \"\"\"\n",
        "    Model definisition.\n",
        "    Input: 2 objects. A number and image.\n",
        "    Output: Sum of number and image representations.\n",
        "    \"\"\"\n",
        "    def __init__(self):\n",
        "        super(ModelClassifier, self).__init__()\n",
        "        \n",
        "        self.conv1 = self.conv_block(c_in=1, c_out=64, kernel_size=3, stride=1, padding=1)\n",
        "        self.conv2 = self.conv_block(c_in=64, c_out=128, kernel_size=3, stride=1)\n",
        "        self.conv3 = self.conv_block(c_in=128, c_out=64, kernel_size=3, stride=1)\n",
        "\n",
        "        self.maxpool = nn.MaxPool2d(kernel_size=2, stride=2)\n",
        "        self.fc1 = self.lin_block(c_in=10 * 10 * 64, c_out=20)\n",
        "\n",
        "        self.fc2 = self.lin_block(c_in=1, c_out=10)\n",
        "        self.fc3 = self.lin_block(c_in=10, c_out=20)\n",
        "\n",
        "\n",
        "    def forward(self, x_img, x_num):\n",
        "        # x_img = 28 x 28 x 3 \n",
        "        x_img = self.conv1(x_img) # 28 x 28 x 32\n",
        "        x_img = self.maxpool(x_img) # 14 x 14 x 32\n",
        "        x_img = self.conv2(x_img) # 12 x 12 x 64\n",
        "        x_img = self.conv3(x_img) # 10 x 10 x 16\n",
        "        x_img = x_img.flatten(1) # 1600\n",
        "        x_img = self.fc1(x_img) # 10\n",
        "\n",
        "        x_num = self.fc2(x_num.unsqueeze(1)) # 10\n",
        "        x_num = self.fc3(x_num) # 20\n",
        "\n",
        "        return x_img + x_num\n",
        "\n",
        "\n",
        "    def conv_block(self, c_in, c_out, **kwargs):\n",
        "        seq_block = nn.Sequential(\n",
        "            nn.Conv2d(in_channels=c_in, out_channels=c_out, **kwargs),\n",
        "            nn.BatchNorm2d(num_features=c_out),\n",
        "            nn.ReLU()\n",
        "        )\n",
        "        \n",
        "        return seq_block\n",
        "\n",
        "\n",
        "\n",
        "    def lin_block(self, c_in, c_out):\n",
        "        seq_block = nn.Sequential(\n",
        "            nn.Linear(in_features=c_in, out_features=c_out),\n",
        "            nn.BatchNorm1d(num_features=c_out),\n",
        "            nn.ReLU()\n",
        "        )\n",
        "        \n",
        "        return seq_block\n",
        "\n",
        "\n",
        "# initialise model\n",
        "model = ModelClassifier()\n",
        "\n",
        "model.to(device)\n",
        "\n",
        "# initialise loss function\n",
        "criterion = nn.CrossEntropyLoss()\n",
        "\n",
        "# initialise optimizer\n",
        "optimizer = optim.SGD(\n",
        "    model.parameters(), lr=0.001, momentum=0.99, weight_decay=0.0005\n",
        ")"
      ],
      "execution_count": 83,
      "outputs": []
    },
    {
      "cell_type": "code",
      "metadata": {
        "id": "jYbDp7b34IKk"
      },
      "source": [
        "# accuracy function\n",
        "def multi_acc(y_pred, y_test):\n",
        "    y_pred_softmax = torch.log_softmax(y_pred, dim = 1)\n",
        "    _, y_pred_tags = torch.max(y_pred_softmax, dim = 1)    \n",
        "    \n",
        "    correct_pred = (y_pred_tags == y_test).float()\n",
        "    acc = correct_pred.sum() / len(correct_pred)\n",
        "    \n",
        "    acc = torch.round(acc * 100)\n",
        "    \n",
        "    return acc"
      ],
      "execution_count": 84,
      "outputs": []
    },
    {
      "cell_type": "code",
      "metadata": {
        "id": "R7WYzsBx2mPb"
      },
      "source": [
        "def train_loop(\n",
        "    model, epochs, optimizer, criterion, img_train_loader, num_train_loader, device\n",
        "):\n",
        "\n",
        "    print(\"Begin training.\")\n",
        "    img_train_loader_iter = iter(img_train_loader)\n",
        "    num_train_loader_iter = iter(num_train_loader)\n",
        "\n",
        "    # run mulitple epochs\n",
        "    for e in range(epochs):\n",
        "        train_epoch_loss = 0\n",
        "        train_epoch_acc = 0\n",
        "\n",
        "        # load images from train loader\n",
        "        model.train()\n",
        "        for x_train_img, y_train_img in img_train_loader:\n",
        "            x_train_img, y_train_img = x_train_img.to(device), y_train_img.to(device)\n",
        "\n",
        "            # generate a random integer tensor\n",
        "            numbers = torch.randint(0, 9, y_train_img.shape).to(device)\n",
        "            \n",
        "            # generate output\n",
        "            y_train_batch = numbers + y_train_img\n",
        "\n",
        "            # zero out gradients for the batch\n",
        "            optimizer.zero_grad()\n",
        "\n",
        "            # generate predictions\n",
        "            y_train_pred = model(x_train_img, numbers/10)\n",
        "\n",
        "            # calculate loss and acc\n",
        "            train_loss = criterion(y_train_pred, y_train_batch)\n",
        "            train_acc = multi_acc(y_train_pred, y_train_batch)\n",
        "\n",
        "            # gradients\n",
        "            train_loss.backward()\n",
        "\n",
        "            # backprop\n",
        "            optimizer.step()\n",
        "\n",
        "            # accumulate loss/acc per epoch\n",
        "            train_epoch_loss += train_loss.item()\n",
        "            train_epoch_acc += train_acc.item()\n",
        "\n",
        "        # average loss/acc per epoch\n",
        "        avg_train_epoch_loss = train_epoch_loss / len(img_train_loader)\n",
        "        avg_train_epoch_acc = train_epoch_acc / len(img_train_loader)\n",
        "\n",
        "        print(\n",
        "            f\"Epoch {e+0:02}/{epochs}: | Train Loss: {avg_train_epoch_loss:.5f} | Train Acc: {avg_train_epoch_acc:.3f}%\"\n",
        "        )\n",
        "        \n",
        "    return model"
      ],
      "execution_count": 85,
      "outputs": []
    },
    {
      "cell_type": "code",
      "metadata": {
        "colab": {
          "base_uri": "https://localhost:8080/"
        },
        "id": "OUamFBiQ3B7e",
        "outputId": "fee3cb04-b48c-4035-aaee-b6e5a48f755b"
      },
      "source": [
        "EPOCHS = 200\n",
        "trained_model = train_loop(model, EPOCHS, optimizer, criterion, img_train_loader, num_train_loader, device)"
      ],
      "execution_count": 86,
      "outputs": [
        {
          "output_type": "stream",
          "text": [
            "Begin training.\n",
            "Epoch 00/200: | Train Loss: 2.80924 | Train Acc: 12.145%\n",
            "Epoch 01/200: | Train Loss: 2.52387 | Train Acc: 16.140%\n",
            "Epoch 02/200: | Train Loss: 2.42741 | Train Acc: 15.728%\n",
            "Epoch 03/200: | Train Loss: 2.34542 | Train Acc: 17.472%\n",
            "Epoch 04/200: | Train Loss: 2.26836 | Train Acc: 18.494%\n",
            "Epoch 05/200: | Train Loss: 2.21400 | Train Acc: 19.906%\n",
            "Epoch 06/200: | Train Loss: 2.16902 | Train Acc: 20.774%\n",
            "Epoch 07/200: | Train Loss: 2.13691 | Train Acc: 21.523%\n",
            "Epoch 08/200: | Train Loss: 2.11130 | Train Acc: 21.932%\n",
            "Epoch 09/200: | Train Loss: 2.09248 | Train Acc: 22.660%\n",
            "Epoch 10/200: | Train Loss: 2.07777 | Train Acc: 23.187%\n",
            "Epoch 11/200: | Train Loss: 2.06198 | Train Acc: 23.991%\n",
            "Epoch 12/200: | Train Loss: 2.05039 | Train Acc: 24.106%\n",
            "Epoch 13/200: | Train Loss: 2.03954 | Train Acc: 24.719%\n",
            "Epoch 14/200: | Train Loss: 2.03000 | Train Acc: 24.591%\n",
            "Epoch 15/200: | Train Loss: 2.02018 | Train Acc: 25.234%\n",
            "Epoch 16/200: | Train Loss: 2.01457 | Train Acc: 24.562%\n",
            "Epoch 17/200: | Train Loss: 2.00472 | Train Acc: 25.183%\n",
            "Epoch 18/200: | Train Loss: 2.00042 | Train Acc: 26.021%\n",
            "Epoch 19/200: | Train Loss: 1.99041 | Train Acc: 25.728%\n",
            "Epoch 20/200: | Train Loss: 1.98362 | Train Acc: 26.545%\n",
            "Epoch 21/200: | Train Loss: 1.98610 | Train Acc: 26.004%\n",
            "Epoch 22/200: | Train Loss: 1.98129 | Train Acc: 25.911%\n",
            "Epoch 23/200: | Train Loss: 1.97816 | Train Acc: 25.885%\n",
            "Epoch 24/200: | Train Loss: 1.97477 | Train Acc: 26.396%\n",
            "Epoch 25/200: | Train Loss: 1.96700 | Train Acc: 26.055%\n",
            "Epoch 26/200: | Train Loss: 1.96874 | Train Acc: 25.974%\n",
            "Epoch 27/200: | Train Loss: 1.95953 | Train Acc: 26.387%\n",
            "Epoch 28/200: | Train Loss: 1.95801 | Train Acc: 26.898%\n",
            "Epoch 29/200: | Train Loss: 1.95617 | Train Acc: 26.472%\n",
            "Epoch 30/200: | Train Loss: 1.95045 | Train Acc: 26.617%\n",
            "Epoch 31/200: | Train Loss: 1.94949 | Train Acc: 26.736%\n",
            "Epoch 32/200: | Train Loss: 1.94628 | Train Acc: 26.940%\n",
            "Epoch 33/200: | Train Loss: 1.94198 | Train Acc: 27.264%\n",
            "Epoch 34/200: | Train Loss: 1.94351 | Train Acc: 27.123%\n",
            "Epoch 35/200: | Train Loss: 1.93630 | Train Acc: 27.030%\n",
            "Epoch 36/200: | Train Loss: 1.93902 | Train Acc: 27.081%\n",
            "Epoch 37/200: | Train Loss: 1.93878 | Train Acc: 27.515%\n",
            "Epoch 38/200: | Train Loss: 1.93998 | Train Acc: 27.136%\n",
            "Epoch 39/200: | Train Loss: 1.92860 | Train Acc: 27.872%\n",
            "Epoch 40/200: | Train Loss: 1.93118 | Train Acc: 27.715%\n",
            "Epoch 41/200: | Train Loss: 1.92690 | Train Acc: 28.302%\n",
            "Epoch 42/200: | Train Loss: 1.92779 | Train Acc: 27.400%\n",
            "Epoch 43/200: | Train Loss: 1.92700 | Train Acc: 27.132%\n",
            "Epoch 44/200: | Train Loss: 1.92854 | Train Acc: 27.302%\n",
            "Epoch 45/200: | Train Loss: 1.92568 | Train Acc: 27.843%\n",
            "Epoch 46/200: | Train Loss: 1.92212 | Train Acc: 27.302%\n",
            "Epoch 47/200: | Train Loss: 1.92507 | Train Acc: 27.706%\n",
            "Epoch 48/200: | Train Loss: 1.92133 | Train Acc: 27.268%\n",
            "Epoch 49/200: | Train Loss: 1.91901 | Train Acc: 27.685%\n",
            "Epoch 50/200: | Train Loss: 1.91779 | Train Acc: 28.430%\n",
            "Epoch 51/200: | Train Loss: 1.91696 | Train Acc: 27.247%\n",
            "Epoch 52/200: | Train Loss: 1.91567 | Train Acc: 27.932%\n",
            "Epoch 53/200: | Train Loss: 1.91092 | Train Acc: 27.911%\n",
            "Epoch 54/200: | Train Loss: 1.91354 | Train Acc: 28.068%\n",
            "Epoch 55/200: | Train Loss: 1.91589 | Train Acc: 27.494%\n",
            "Epoch 56/200: | Train Loss: 1.91243 | Train Acc: 27.979%\n",
            "Epoch 57/200: | Train Loss: 1.91099 | Train Acc: 27.540%\n",
            "Epoch 58/200: | Train Loss: 1.91240 | Train Acc: 27.443%\n",
            "Epoch 59/200: | Train Loss: 1.91304 | Train Acc: 27.860%\n",
            "Epoch 60/200: | Train Loss: 1.90899 | Train Acc: 27.489%\n",
            "Epoch 61/200: | Train Loss: 1.91287 | Train Acc: 28.017%\n",
            "Epoch 62/200: | Train Loss: 1.90874 | Train Acc: 27.766%\n",
            "Epoch 63/200: | Train Loss: 1.90594 | Train Acc: 28.779%\n",
            "Epoch 64/200: | Train Loss: 1.91322 | Train Acc: 27.957%\n",
            "Epoch 65/200: | Train Loss: 1.90777 | Train Acc: 27.643%\n",
            "Epoch 66/200: | Train Loss: 1.90767 | Train Acc: 28.187%\n",
            "Epoch 67/200: | Train Loss: 1.90765 | Train Acc: 27.328%\n",
            "Epoch 68/200: | Train Loss: 1.90046 | Train Acc: 28.051%\n",
            "Epoch 69/200: | Train Loss: 1.90242 | Train Acc: 28.149%\n",
            "Epoch 70/200: | Train Loss: 1.90610 | Train Acc: 28.532%\n",
            "Epoch 71/200: | Train Loss: 1.90052 | Train Acc: 28.889%\n",
            "Epoch 72/200: | Train Loss: 1.90347 | Train Acc: 28.736%\n",
            "Epoch 73/200: | Train Loss: 1.90082 | Train Acc: 28.311%\n",
            "Epoch 74/200: | Train Loss: 1.90137 | Train Acc: 28.072%\n",
            "Epoch 75/200: | Train Loss: 1.90202 | Train Acc: 27.796%\n",
            "Epoch 76/200: | Train Loss: 1.90051 | Train Acc: 28.268%\n",
            "Epoch 77/200: | Train Loss: 1.90692 | Train Acc: 27.532%\n",
            "Epoch 78/200: | Train Loss: 1.89907 | Train Acc: 28.570%\n",
            "Epoch 79/200: | Train Loss: 1.90043 | Train Acc: 28.455%\n",
            "Epoch 80/200: | Train Loss: 1.89826 | Train Acc: 28.540%\n",
            "Epoch 81/200: | Train Loss: 1.89492 | Train Acc: 28.677%\n",
            "Epoch 82/200: | Train Loss: 1.89285 | Train Acc: 29.217%\n",
            "Epoch 83/200: | Train Loss: 1.89499 | Train Acc: 29.162%\n",
            "Epoch 84/200: | Train Loss: 1.89502 | Train Acc: 28.000%\n",
            "Epoch 85/200: | Train Loss: 1.89330 | Train Acc: 28.204%\n",
            "Epoch 86/200: | Train Loss: 1.89304 | Train Acc: 28.689%\n",
            "Epoch 87/200: | Train Loss: 1.89224 | Train Acc: 28.357%\n",
            "Epoch 88/200: | Train Loss: 1.89823 | Train Acc: 28.068%\n",
            "Epoch 89/200: | Train Loss: 1.89978 | Train Acc: 28.000%\n",
            "Epoch 90/200: | Train Loss: 1.89706 | Train Acc: 27.685%\n",
            "Epoch 91/200: | Train Loss: 1.89380 | Train Acc: 28.340%\n",
            "Epoch 92/200: | Train Loss: 1.89293 | Train Acc: 28.187%\n",
            "Epoch 93/200: | Train Loss: 1.89477 | Train Acc: 28.094%\n",
            "Epoch 94/200: | Train Loss: 1.89428 | Train Acc: 28.617%\n",
            "Epoch 95/200: | Train Loss: 1.89334 | Train Acc: 28.923%\n",
            "Epoch 96/200: | Train Loss: 1.89078 | Train Acc: 28.604%\n",
            "Epoch 97/200: | Train Loss: 1.89301 | Train Acc: 28.026%\n",
            "Epoch 98/200: | Train Loss: 1.89057 | Train Acc: 28.745%\n",
            "Epoch 99/200: | Train Loss: 1.89170 | Train Acc: 28.383%\n",
            "Epoch 100/200: | Train Loss: 1.89247 | Train Acc: 28.383%\n",
            "Epoch 101/200: | Train Loss: 1.89510 | Train Acc: 28.234%\n",
            "Epoch 102/200: | Train Loss: 1.88679 | Train Acc: 28.787%\n",
            "Epoch 103/200: | Train Loss: 1.88678 | Train Acc: 28.557%\n",
            "Epoch 104/200: | Train Loss: 1.89036 | Train Acc: 28.430%\n",
            "Epoch 105/200: | Train Loss: 1.88565 | Train Acc: 28.434%\n",
            "Epoch 106/200: | Train Loss: 1.88869 | Train Acc: 28.600%\n",
            "Epoch 107/200: | Train Loss: 1.89059 | Train Acc: 28.443%\n",
            "Epoch 108/200: | Train Loss: 1.88505 | Train Acc: 29.140%\n",
            "Epoch 109/200: | Train Loss: 1.88925 | Train Acc: 29.302%\n",
            "Epoch 110/200: | Train Loss: 1.88964 | Train Acc: 28.264%\n",
            "Epoch 111/200: | Train Loss: 1.89083 | Train Acc: 28.132%\n",
            "Epoch 112/200: | Train Loss: 1.88344 | Train Acc: 29.260%\n",
            "Epoch 113/200: | Train Loss: 1.88243 | Train Acc: 29.051%\n",
            "Epoch 114/200: | Train Loss: 1.88598 | Train Acc: 29.026%\n",
            "Epoch 115/200: | Train Loss: 1.88877 | Train Acc: 28.426%\n",
            "Epoch 116/200: | Train Loss: 1.88678 | Train Acc: 28.370%\n",
            "Epoch 117/200: | Train Loss: 1.88626 | Train Acc: 28.494%\n",
            "Epoch 118/200: | Train Loss: 1.88478 | Train Acc: 28.600%\n",
            "Epoch 119/200: | Train Loss: 1.88638 | Train Acc: 27.885%\n",
            "Epoch 120/200: | Train Loss: 1.88647 | Train Acc: 28.481%\n",
            "Epoch 121/200: | Train Loss: 1.88879 | Train Acc: 28.591%\n",
            "Epoch 122/200: | Train Loss: 1.88784 | Train Acc: 28.826%\n",
            "Epoch 123/200: | Train Loss: 1.88632 | Train Acc: 27.996%\n",
            "Epoch 124/200: | Train Loss: 1.88688 | Train Acc: 28.634%\n",
            "Epoch 125/200: | Train Loss: 1.88222 | Train Acc: 28.464%\n",
            "Epoch 126/200: | Train Loss: 1.88515 | Train Acc: 29.017%\n",
            "Epoch 127/200: | Train Loss: 1.88534 | Train Acc: 28.366%\n",
            "Epoch 128/200: | Train Loss: 1.88520 | Train Acc: 28.600%\n",
            "Epoch 129/200: | Train Loss: 1.88386 | Train Acc: 28.987%\n",
            "Epoch 130/200: | Train Loss: 1.88202 | Train Acc: 29.149%\n",
            "Epoch 131/200: | Train Loss: 1.88566 | Train Acc: 28.345%\n",
            "Epoch 132/200: | Train Loss: 1.88558 | Train Acc: 28.953%\n",
            "Epoch 133/200: | Train Loss: 1.88177 | Train Acc: 28.855%\n",
            "Epoch 134/200: | Train Loss: 1.88673 | Train Acc: 28.898%\n",
            "Epoch 135/200: | Train Loss: 1.87709 | Train Acc: 28.655%\n",
            "Epoch 136/200: | Train Loss: 1.88171 | Train Acc: 28.626%\n",
            "Epoch 137/200: | Train Loss: 1.87813 | Train Acc: 28.936%\n",
            "Epoch 138/200: | Train Loss: 1.88097 | Train Acc: 28.268%\n",
            "Epoch 139/200: | Train Loss: 1.88128 | Train Acc: 28.834%\n",
            "Epoch 140/200: | Train Loss: 1.88018 | Train Acc: 28.128%\n",
            "Epoch 141/200: | Train Loss: 1.88277 | Train Acc: 29.009%\n",
            "Epoch 142/200: | Train Loss: 1.88110 | Train Acc: 28.860%\n",
            "Epoch 143/200: | Train Loss: 1.87501 | Train Acc: 28.719%\n",
            "Epoch 144/200: | Train Loss: 1.88332 | Train Acc: 29.098%\n",
            "Epoch 145/200: | Train Loss: 1.88369 | Train Acc: 28.830%\n",
            "Epoch 146/200: | Train Loss: 1.88205 | Train Acc: 28.570%\n",
            "Epoch 147/200: | Train Loss: 1.88200 | Train Acc: 28.630%\n",
            "Epoch 148/200: | Train Loss: 1.88368 | Train Acc: 29.094%\n",
            "Epoch 149/200: | Train Loss: 1.88260 | Train Acc: 28.868%\n",
            "Epoch 150/200: | Train Loss: 1.88037 | Train Acc: 28.847%\n",
            "Epoch 151/200: | Train Loss: 1.88469 | Train Acc: 28.162%\n",
            "Epoch 152/200: | Train Loss: 1.88270 | Train Acc: 28.166%\n",
            "Epoch 153/200: | Train Loss: 1.88064 | Train Acc: 28.447%\n",
            "Epoch 154/200: | Train Loss: 1.87885 | Train Acc: 29.030%\n",
            "Epoch 155/200: | Train Loss: 1.88133 | Train Acc: 28.868%\n",
            "Epoch 156/200: | Train Loss: 1.88081 | Train Acc: 28.706%\n",
            "Epoch 157/200: | Train Loss: 1.88255 | Train Acc: 28.877%\n",
            "Epoch 158/200: | Train Loss: 1.88070 | Train Acc: 28.911%\n",
            "Epoch 159/200: | Train Loss: 1.88252 | Train Acc: 29.136%\n",
            "Epoch 160/200: | Train Loss: 1.87702 | Train Acc: 29.400%\n",
            "Epoch 161/200: | Train Loss: 1.88249 | Train Acc: 28.481%\n",
            "Epoch 162/200: | Train Loss: 1.88008 | Train Acc: 28.247%\n",
            "Epoch 163/200: | Train Loss: 1.88118 | Train Acc: 28.685%\n",
            "Epoch 164/200: | Train Loss: 1.87949 | Train Acc: 29.400%\n",
            "Epoch 165/200: | Train Loss: 1.87534 | Train Acc: 29.809%\n",
            "Epoch 166/200: | Train Loss: 1.88155 | Train Acc: 28.936%\n",
            "Epoch 167/200: | Train Loss: 1.87375 | Train Acc: 29.664%\n",
            "Epoch 168/200: | Train Loss: 1.87746 | Train Acc: 29.494%\n",
            "Epoch 169/200: | Train Loss: 1.87874 | Train Acc: 28.979%\n",
            "Epoch 170/200: | Train Loss: 1.88142 | Train Acc: 28.821%\n",
            "Epoch 171/200: | Train Loss: 1.87604 | Train Acc: 28.813%\n",
            "Epoch 172/200: | Train Loss: 1.87990 | Train Acc: 28.523%\n",
            "Epoch 173/200: | Train Loss: 1.87844 | Train Acc: 29.102%\n",
            "Epoch 174/200: | Train Loss: 1.87829 | Train Acc: 28.655%\n",
            "Epoch 175/200: | Train Loss: 1.87882 | Train Acc: 28.872%\n",
            "Epoch 176/200: | Train Loss: 1.88197 | Train Acc: 29.089%\n",
            "Epoch 177/200: | Train Loss: 1.88124 | Train Acc: 28.362%\n",
            "Epoch 178/200: | Train Loss: 1.88178 | Train Acc: 29.315%\n",
            "Epoch 179/200: | Train Loss: 1.88078 | Train Acc: 28.494%\n",
            "Epoch 180/200: | Train Loss: 1.87986 | Train Acc: 29.043%\n",
            "Epoch 181/200: | Train Loss: 1.88150 | Train Acc: 29.183%\n",
            "Epoch 182/200: | Train Loss: 1.88019 | Train Acc: 28.655%\n",
            "Epoch 183/200: | Train Loss: 1.87911 | Train Acc: 28.855%\n",
            "Epoch 184/200: | Train Loss: 1.87849 | Train Acc: 28.417%\n",
            "Epoch 185/200: | Train Loss: 1.87736 | Train Acc: 29.132%\n",
            "Epoch 186/200: | Train Loss: 1.87677 | Train Acc: 29.268%\n",
            "Epoch 187/200: | Train Loss: 1.88352 | Train Acc: 28.132%\n",
            "Epoch 188/200: | Train Loss: 1.87858 | Train Acc: 29.145%\n",
            "Epoch 189/200: | Train Loss: 1.87918 | Train Acc: 28.821%\n",
            "Epoch 190/200: | Train Loss: 1.87626 | Train Acc: 28.430%\n",
            "Epoch 191/200: | Train Loss: 1.87662 | Train Acc: 29.217%\n",
            "Epoch 192/200: | Train Loss: 1.87785 | Train Acc: 28.791%\n",
            "Epoch 193/200: | Train Loss: 1.88085 | Train Acc: 28.957%\n",
            "Epoch 194/200: | Train Loss: 1.87521 | Train Acc: 28.945%\n",
            "Epoch 195/200: | Train Loss: 1.87658 | Train Acc: 28.962%\n",
            "Epoch 196/200: | Train Loss: 1.88063 | Train Acc: 29.277%\n",
            "Epoch 197/200: | Train Loss: 1.87973 | Train Acc: 28.396%\n",
            "Epoch 198/200: | Train Loss: 1.88129 | Train Acc: 28.787%\n",
            "Epoch 199/200: | Train Loss: 1.87985 | Train Acc: 29.106%\n"
          ],
          "name": "stdout"
        }
      ]
    },
    {
      "cell_type": "code",
      "metadata": {
        "id": "m2iSRnIssF_Z"
      },
      "source": [
        "def test_loop(test_loader):\n",
        "    y_pred_list = []\n",
        "    y_true_list = []\n",
        "\n",
        "    with torch.no_grad():\n",
        "        # load batches from test loader\n",
        "        for x_batch_img, y_batch_img in tqdm(test_loader):\n",
        "            x_batch_img, y_batch_img = x_batch_img.to(device), y_batch_img.to(device)\n",
        "\n",
        "            # generate random integers\n",
        "            numbers = torch.randint(0, 9, y_batch_img.shape).to(device)\n",
        "\n",
        "            y_true = numbers + y_batch_img\n",
        "            \n",
        "            # get prediction probs\n",
        "            y_pred_probs = model(x_batch_img, numbers/10)\n",
        "\n",
        "            # get indices of max prob\n",
        "            _, y_pred = torch.max(y_pred_probs, dim = 1)\n",
        "\n",
        "            # store predictions in a list\n",
        "            y_pred_list.append(y_pred.cpu().numpy())\n",
        "            y_true_list.append(y_true.cpu().numpy())\n",
        "\n",
        "    return y_pred_list, y_true_list"
      ],
      "execution_count": 99,
      "outputs": []
    },
    {
      "cell_type": "code",
      "metadata": {
        "colab": {
          "base_uri": "https://localhost:8080/",
          "height": 66,
          "referenced_widgets": [
            "d48edea419da431ba2a878f22c2e3ea0",
            "ed3c8bdaf73d49a084bccf6dd910a57c",
            "c534ee738260496581653d885cc418e2",
            "b7f7896130b04f58bfdd051d33ab5ae6",
            "44741f71a6b64a6bac9fa9f44186c6a0",
            "46dd152d74d043b6b9599e253443707f",
            "6487946c3db44d0598ef45857f950c3e",
            "59e6e45d1ed9494796cdec22dc82ee38"
          ]
        },
        "id": "xjpdK8bXsGJF",
        "outputId": "10a27c5e-83a8-4e04-b63f-5c7335031efb"
      },
      "source": [
        "# generate predictions\n",
        "y_pred_list, y_true_list = test_loop(img_test_loader)"
      ],
      "execution_count": 100,
      "outputs": [
        {
          "output_type": "display_data",
          "data": {
            "application/vnd.jupyter.widget-view+json": {
              "model_id": "d48edea419da431ba2a878f22c2e3ea0",
              "version_minor": 0,
              "version_major": 2
            },
            "text/plain": [
              "HBox(children=(FloatProgress(value=0.0, max=40.0), HTML(value='')))"
            ]
          },
          "metadata": {
            "tags": []
          }
        },
        {
          "output_type": "stream",
          "text": [
            "\n"
          ],
          "name": "stdout"
        }
      ]
    },
    {
      "cell_type": "code",
      "metadata": {
        "id": "zUDQeSDrwV0i"
      },
      "source": [
        "# flatten lists\n",
        "y_pred_list = np.concatenate(y_pred_list).ravel().tolist()\n",
        "y_true_list = np.concatenate(y_true_list).ravel().tolist()"
      ],
      "execution_count": 101,
      "outputs": []
    },
    {
      "cell_type": "code",
      "metadata": {
        "colab": {
          "base_uri": "https://localhost:8080/"
        },
        "id": "sZf7E3g3sGML",
        "outputId": "09687905-6d33-421e-dbb7-62fd452c23cb"
      },
      "source": [
        "# classification report\n",
        "print(classification_report(y_pred_list, y_true_list))"
      ],
      "execution_count": 102,
      "outputs": [
        {
          "output_type": "stream",
          "text": [
            "              precision    recall  f1-score   support\n",
            "\n",
            "           0       0.79      0.84      0.82       106\n",
            "           1       0.85      0.68      0.76       275\n",
            "           2       0.74      0.47      0.57       540\n",
            "           3       0.00      0.00      0.00       837\n",
            "           4       0.50      0.26      0.34      1007\n",
            "           5       0.37      0.21      0.27      1182\n",
            "           6       0.21      0.30      0.24       542\n",
            "           7       0.32      0.38      0.35       789\n",
            "           8       0.16      0.44      0.23       353\n",
            "           9       0.15      0.38      0.22       417\n",
            "          10       0.14      0.31      0.20       410\n",
            "          11       0.13      0.26      0.17       360\n",
            "          12       0.43      0.23      0.30      1229\n",
            "          13       0.51      0.18      0.26      1472\n",
            "          14       0.07      0.22      0.11       149\n",
            "          15       0.07      0.17      0.10       142\n",
            "          16       0.06      0.22      0.10        68\n",
            "          17       0.12      0.11      0.11       122\n",
            "\n",
            "    accuracy                           0.27     10000\n",
            "   macro avg       0.31      0.31      0.29     10000\n",
            "weighted avg       0.36      0.27      0.28     10000\n",
            "\n"
          ],
          "name": "stdout"
        }
      ]
    },
    {
      "cell_type": "code",
      "metadata": {
        "colab": {
          "base_uri": "https://localhost:8080/"
        },
        "id": "UQSx-l-isGOu",
        "outputId": "eff7708f-f8db-4e54-cf4f-249e57c95040"
      },
      "source": [
        "print(accuracy_score(y_pred_list, y_true_list))"
      ],
      "execution_count": 103,
      "outputs": [
        {
          "output_type": "stream",
          "text": [
            "0.2659\n"
          ],
          "name": "stdout"
        }
      ]
    },
    {
      "cell_type": "code",
      "metadata": {
        "colab": {
          "base_uri": "https://localhost:8080/"
        },
        "id": "c54oTbycsGRH",
        "outputId": "232c6b42-a6ba-4f42-aa5f-bd59515ef0c2"
      },
      "source": [
        "print(confusion_matrix(y_pred_list, y_true_list))"
      ],
      "execution_count": 104,
      "outputs": [
        {
          "output_type": "stream",
          "text": [
            "[[ 89   0   0   0   1   1   2   4   7   2   0   0   0   0   0   0   0   0]\n",
            " [ 22 187  61   0   0   0   0   4   0   1   0   0   0   0   0   0   0   0]\n",
            " [  1  31 253 209  42   0   1   1   0   1   1   0   0   0   0   0   0   0]\n",
            " [  0   0   0   0   0   0   8  99 229 268 174  57   0   0   2   0   0   0]\n",
            " [  0   0  28 238 263 292 155  29   1   0   0   1   0   0   0   0   0   0]\n",
            " [  0   0   0  24 198 251 298 197 129  80   4   1   0   0   0   0   0   0]\n",
            " [  0   2   0   4   5 107 160 164  62  22  10   5   1   0   0   0   0   0]\n",
            " [  0   0   2   0  13  14 109 298 219  70  49  10   4   1   0   0   0   0]\n",
            " [  0   0   0   0   2   4  18  80 156  73  14   1   1   2   2   0   0   0]\n",
            " [  0   0   0   0   2   7  15  23 106 157  75  22   7   2   1   0   0   0]\n",
            " [  0   0   0   1   0   0   2  12  46 155 127  50  13   1   2   1   0   0]\n",
            " [  0   0   0   0   0   0   0   0   4  61  63  93  76  19  15  18   7   4]\n",
            " [  0   0   0   0   0   0   0   6  20  81 165 252 279 204 129  60  25   8]\n",
            " [  0   0   0   0   0   0   0   0   1  19 126 170 247 261 245 176 156  71]\n",
            " [  0   0   0   0   0   0   0   0   2  28  17  11   4  15  33  33   3   3]\n",
            " [  0   0   0   0   0   0   0   0   2  14  28  25   3   7  19  24  18   2]\n",
            " [  0   0   0   0   0   0   0   0   1   0  17  13   5   0   7   6  15   4]\n",
            " [  0   0   0   0   0   0   0   0   0  11  17  29  11   1   6  16  18  13]]\n"
          ],
          "name": "stdout"
        }
      ]
    },
    {
      "cell_type": "code",
      "metadata": {
        "id": "xbOwKrwe3iaW"
      },
      "source": [
        "# def train_loop(\n",
        "#     model, epochs, optimizer, criterion, img_train_loader, num_train_loader, device\n",
        "# ):\n",
        "\n",
        "#     print(\"Begin training.\")\n",
        "#     img_train_loader_iter = iter(img_train_loader)\n",
        "#     num_train_loader_iter = iter(num_train_loader)\n",
        "\n",
        "#     for e in range(epochs):\n",
        "#         train_epoch_loss = 0\n",
        "#         train_epoch_acc = 0\n",
        "\n",
        "#         model.train()\n",
        "#         for b in range(len(img_train_loader)):\n",
        "#             x_train_img, y_train_img = next(img_train_loader_iter)\n",
        "#             x_train_num = next(num_train_loader_iter)\n",
        "\n",
        "#             y_train_batch =  x_train_num.squeeze() + y_train_img\n",
        "\n",
        "#             x_train_img, y_train_img = x_train_img.to(device), y_train_img.to(device)\n",
        "#             x_train_num = x_train_num.to(device)\n",
        "\n",
        "#             optimizer.zero_grad()\n",
        "\n",
        "#             y_train_pred = model(x_train_img, x_train_num.squeeze()/10)\n",
        "\n",
        "#             # print(y_train_pred.shape, y_train_batch.shape, max(y_train_batch), min(y_train_batch))\n",
        "#             # print(y_train_pred.shape, y_train_pred)\n",
        "#             # print(y_train_batch.shape, y_train_batch)\n",
        "\n",
        "#             train_loss = criterion(y_train_pred, y_train_batch)\n",
        "#             train_acc = multi_acc(y_train_pred, y_train_batch)\n",
        "\n",
        "#             train_loss.backward()\n",
        "#             optimizer.step()\n",
        "\n",
        "#             train_epoch_loss += train_loss.item()\n",
        "#             train_epoch_acc += train_acc.item()\n",
        "\n",
        "#         avg_train_epoch_loss = train_epoch_loss / len(img_train_loader)\n",
        "#         avg_train_epoch_acc = train_epoch_acc / len(img_train_loader)\n",
        "\n",
        "#         print(\n",
        "#             f\"Epoch {e+0:02}/{epochs}: | Train Loss: {avg_train_epoch_loss:.5f} | Train Acc: {avg_train_epoch_acc:.3f}%\"\n",
        "#         )\n",
        "        \n",
        "#     return model"
      ],
      "execution_count": null,
      "outputs": []
    }
  ]
}